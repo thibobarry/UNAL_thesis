{
 "cells": [
  {
   "cell_type": "code",
   "execution_count": 1,
   "metadata": {},
   "outputs": [
    {
     "name": "stdout",
     "output_type": "stream",
     "text": [
      "Current Generation \t: 100\n",
      "Chromosome - 0 [5][5][5][5][5][5][5][5][5][5] / Fitness = 10\n",
      "Chromosome - 1 [5][5][5][5][5][5][5][5][5][5] / Fitness = 10\n",
      "Chromosome - 2 [5][5][5][5][5][5][5][5][5][5] / Fitness = 10\n",
      "Chromosome - 3 [5][5][5][5][5][5][5][5][5][5] / Fitness = 10\n",
      "Chromosome - 4 [5][5][5][5][5][5][5][5][5][5] / Fitness = 10\n",
      "Chromosome - 5 [5][5][5][5][5][5][7][5][5][5] / Fitness = 9\n",
      "Chromosome - 6 [5][5][5][9][5][5][5][5][5][5] / Fitness = 9\n",
      "Chromosome - 7 [5][5][5][9][5][5][5][5][5][5] / Fitness = 9\n",
      "Chromosome - 8 [5][5][5][9][5][5][5][5][5][5] / Fitness = 9\n",
      "Chromosome - 9 [5][5][5][9][5][6][5][5][5][5] / Fitness = 8\n",
      "\n"
     ]
    }
   ],
   "source": [
    "import EasyGA\n",
    "\n",
    "# Create the Genetic algorithm\n",
    "ga = EasyGA.GA()\n",
    "\n",
    "# Evolve the whole genetic algorithm until termination has been reached\n",
    "ga.evolve()\n",
    "\n",
    "# Print out the current generation and the population\n",
    "ga.print_generation()\n",
    "ga.print_population()"
   ]
  },
  {
   "cell_type": "code",
   "execution_count": null,
   "metadata": {},
   "outputs": [],
   "source": []
  }
 ],
 "metadata": {
  "kernelspec": {
   "display_name": "Python 3",
   "language": "python",
   "name": "python3"
  },
  "language_info": {
   "codemirror_mode": {
    "name": "ipython",
    "version": 3
   },
   "file_extension": ".py",
   "mimetype": "text/x-python",
   "name": "python",
   "nbconvert_exporter": "python",
   "pygments_lexer": "ipython3",
   "version": "3.9.9"
  },
  "orig_nbformat": 4
 },
 "nbformat": 4,
 "nbformat_minor": 2
}
